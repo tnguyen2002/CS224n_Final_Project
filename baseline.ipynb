{
 "cells": [
  {
   "cell_type": "code",
   "execution_count": 1,
   "metadata": {},
   "outputs": [],
   "source": [
    "import torch\n",
    "import torch.nn as nn\n",
    "import torch.optim as optim\n",
    "import torchvision.transforms as transforms\n",
    "import torchvision.datasets as datasets\n",
    "from sklearn.metrics import roc_auc_score, precision_score, recall_score\n",
    "from sklearn.model_selection import train_test_split\n",
    "import clip\n",
    "from pathlib import Path\n",
    "import shutil\n",
    "\n",
    "# load in clip\n",
    "import os\n",
    "import torch.utils.data as data\n",
    "import torchvision.transforms as transforms\n",
    "import numpy as np\n",
    "import pandas as pd\n",
    "from torch.utils.data import DataLoader\n",
    "from typing import List, Optional\n",
    "from PIL import Image\n",
    "\n",
    "from collections import defaultdict\n",
    "from tqdm import tqdm\n",
    "\n",
    "import cv2\n",
    "import openslide"
   ]
  },
  {
   "attachments": {},
   "cell_type": "markdown",
   "metadata": {},
   "source": [
    "import cv2\n",
    "import openslide"
   ]
  },
  {
   "cell_type": "code",
   "execution_count": 2,
   "metadata": {},
   "outputs": [
    {
     "data": {
      "text/plain": [
       "'/opt/conda/envs/pytorch/lib/python3.9/site-packages/clip/__init__.py'"
      ]
     },
     "execution_count": 2,
     "metadata": {},
     "output_type": "execute_result"
    }
   ],
   "source": [
    "clip.__file__"
   ]
  },
  {
   "attachments": {},
   "cell_type": "markdown",
   "metadata": {},
   "source": [
    "Get Sample Data\n"
   ]
  },
  {
   "cell_type": "code",
   "execution_count": 3,
   "metadata": {},
   "outputs": [],
   "source": [
    "data_dir = Path(\"../../../../data/data/\")"
   ]
  },
  {
   "cell_type": "code",
   "execution_count": 4,
   "metadata": {},
   "outputs": [
    {
     "data": {
      "text/plain": [
       "<All keys matched successfully>"
      ]
     },
     "execution_count": 4,
     "metadata": {},
     "output_type": "execute_result"
    }
   ],
   "source": [
    "# load clip vit models -- this should have pre-trained clip weights\n",
    "device = \"cuda\" if torch.cuda.is_available() else \"cpu\"\n",
    "model, preprocess = clip.load(\"ViT-B/32\", device=device, jit=False)\n",
    "\n",
    "model.load_state_dict(torch.load('./checkpoints/sample_0/checkpoint_63000.pt'))"
   ]
  },
  {
   "cell_type": "code",
   "execution_count": 5,
   "metadata": {},
   "outputs": [],
   "source": [
    "# read in from csv, sample one from each class\n",
    "labels_path = \"slides.csv\"\n",
    "labels_df = pd.read_csv(labels_path)\n",
    "# # add column to labels \n",
    "labels_df[\"label\"] = labels_df.apply(lambda x: x['cases.0.disease_type'].split(\" \")[0].lower(),axis=1)\n",
    "labels_df\n",
    "sample_label_cases = list(labels_df.groupby(\"label\").first()['cases.0.submitter_id'])\n",
    "\n",
    "# sample_label_cases\n",
    "labels_sample = labels_df[labels_df['cases.0.submitter_id'].isin(sample_label_cases)]"
   ]
  },
  {
   "cell_type": "code",
   "execution_count": 6,
   "metadata": {},
   "outputs": [
    {
     "data": {
      "text/html": [
       "<div>\n",
       "<style scoped>\n",
       "    .dataframe tbody tr th:only-of-type {\n",
       "        vertical-align: middle;\n",
       "    }\n",
       "\n",
       "    .dataframe tbody tr th {\n",
       "        vertical-align: top;\n",
       "    }\n",
       "\n",
       "    .dataframe thead th {\n",
       "        text-align: right;\n",
       "    }\n",
       "</style>\n",
       "<table border=\"1\" class=\"dataframe\">\n",
       "  <thead>\n",
       "    <tr style=\"text-align: right;\">\n",
       "      <th></th>\n",
       "      <th>cases.0.disease_type</th>\n",
       "      <th>cases.0.project.project_id</th>\n",
       "      <th>cases.0.samples.0.sample_type</th>\n",
       "      <th>cases.0.samples.1.sample_type</th>\n",
       "      <th>cases.0.submitter_id</th>\n",
       "      <th>file_id</th>\n",
       "      <th>file_name</th>\n",
       "      <th>id</th>\n",
       "      <th>label</th>\n",
       "    </tr>\n",
       "  </thead>\n",
       "  <tbody>\n",
       "    <tr>\n",
       "      <th>0</th>\n",
       "      <td>Squamous Cell Neoplasms</td>\n",
       "      <td>TCGA-CESC</td>\n",
       "      <td>Primary Tumor</td>\n",
       "      <td>NaN</td>\n",
       "      <td>TCGA-MA-AA3X</td>\n",
       "      <td>69037019-9df5-493e-8067-d4078d78e518</td>\n",
       "      <td>TCGA-MA-AA3X-01Z-00-DX1.44657CDB-53F1-4DED-AE5...</td>\n",
       "      <td>69037019-9df5-493e-8067-d4078d78e518</td>\n",
       "      <td>squamous</td>\n",
       "    </tr>\n",
       "    <tr>\n",
       "      <th>12</th>\n",
       "      <td>Cystic Mucinous and Serous Neoplasms</td>\n",
       "      <td>TCGA-CESC</td>\n",
       "      <td>Primary Tumor</td>\n",
       "      <td>NaN</td>\n",
       "      <td>TCGA-Q1-A6DV</td>\n",
       "      <td>327f4dc9-5461-44a4-8c29-f16757e5bde1</td>\n",
       "      <td>TCGA-Q1-A6DV-01Z-00-DX1.A31CD86F-703A-462F-860...</td>\n",
       "      <td>327f4dc9-5461-44a4-8c29-f16757e5bde1</td>\n",
       "      <td>cystic</td>\n",
       "    </tr>\n",
       "    <tr>\n",
       "      <th>28</th>\n",
       "      <td>Complex Epithelial Neoplasms</td>\n",
       "      <td>TCGA-CESC</td>\n",
       "      <td>Primary Tumor</td>\n",
       "      <td>NaN</td>\n",
       "      <td>TCGA-DS-A7WF</td>\n",
       "      <td>96858e79-abc9-430a-b1be-5c08407a330a</td>\n",
       "      <td>TCGA-DS-A7WF-01A-01-TSA.3E5926D1-9D6F-46F1-A68...</td>\n",
       "      <td>96858e79-abc9-430a-b1be-5c08407a330a</td>\n",
       "      <td>complex</td>\n",
       "    </tr>\n",
       "    <tr>\n",
       "      <th>75</th>\n",
       "      <td>Adenomas and Adenocarcinomas</td>\n",
       "      <td>TCGA-CESC</td>\n",
       "      <td>Primary Tumor</td>\n",
       "      <td>NaN</td>\n",
       "      <td>TCGA-C5-A1ME</td>\n",
       "      <td>06da5d60-88a1-460e-924d-7a49d82ab2c0</td>\n",
       "      <td>TCGA-C5-A1ME-01Z-00-DX1.44645529-F452-49AD-804...</td>\n",
       "      <td>06da5d60-88a1-460e-924d-7a49d82ab2c0</td>\n",
       "      <td>adenomas</td>\n",
       "    </tr>\n",
       "    <tr>\n",
       "      <th>263</th>\n",
       "      <td>Transitional Cell Papillomas and Carcinomas</td>\n",
       "      <td>TCGA-BLCA</td>\n",
       "      <td>Primary Tumor</td>\n",
       "      <td>NaN</td>\n",
       "      <td>TCGA-G2-A3IB</td>\n",
       "      <td>3aa30334-ac24-477c-a28b-e2cc211748e2</td>\n",
       "      <td>TCGA-G2-A3IB-01A-01-TSA.70AA56B1-1580-4FE2-A83...</td>\n",
       "      <td>3aa30334-ac24-477c-a28b-e2cc211748e2</td>\n",
       "      <td>transitional</td>\n",
       "    </tr>\n",
       "    <tr>\n",
       "      <th>732</th>\n",
       "      <td>Mature B-Cell Lymphomas</td>\n",
       "      <td>TCGA-DLBC</td>\n",
       "      <td>Primary Tumor</td>\n",
       "      <td>NaN</td>\n",
       "      <td>TCGA-GS-A9TZ</td>\n",
       "      <td>233e0ac3-e8a6-4132-b4cd-68ddcd3890bd</td>\n",
       "      <td>TCGA-GS-A9TZ-01A-01-TSA.686AE713-E246-41CE-811...</td>\n",
       "      <td>233e0ac3-e8a6-4132-b4cd-68ddcd3890bd</td>\n",
       "      <td>mature</td>\n",
       "    </tr>\n",
       "    <tr>\n",
       "      <th>1142</th>\n",
       "      <td>Epithelial Neoplasms NOS</td>\n",
       "      <td>TCGA-BLCA</td>\n",
       "      <td>Primary Tumor</td>\n",
       "      <td>NaN</td>\n",
       "      <td>TCGA-ZF-AA4N</td>\n",
       "      <td>ec9adc5f-a25c-4e89-9c48-58f3bb23523d</td>\n",
       "      <td>TCGA-ZF-AA4N-01A-01-TS1.596D27B2-1418-43B5-8C7...</td>\n",
       "      <td>ec9adc5f-a25c-4e89-9c48-58f3bb23523d</td>\n",
       "      <td>epithelial</td>\n",
       "    </tr>\n",
       "    <tr>\n",
       "      <th>1287</th>\n",
       "      <td>Gliomas</td>\n",
       "      <td>TCGA-GBM</td>\n",
       "      <td>Primary Tumor</td>\n",
       "      <td>NaN</td>\n",
       "      <td>TCGA-02-0321</td>\n",
       "      <td>7b4519a1-7d6a-4c47-8563-a044f2448e55</td>\n",
       "      <td>TCGA-02-0321-01Z-00-DX1.3c57c27d-4a4f-45af-bf8...</td>\n",
       "      <td>7b4519a1-7d6a-4c47-8563-a044f2448e55</td>\n",
       "      <td>gliomas</td>\n",
       "    </tr>\n",
       "    <tr>\n",
       "      <th>1552</th>\n",
       "      <td>Not Reported</td>\n",
       "      <td>TCGA-GBM</td>\n",
       "      <td>Solid Tissue Normal</td>\n",
       "      <td>NaN</td>\n",
       "      <td>TCGA-06-0675</td>\n",
       "      <td>e412d797-4fce-4595-b5e1-f2448af7dea4</td>\n",
       "      <td>TCGA-06-0675-11A-03-TS3.A650CD6A-E0FE-4C6E-8CC...</td>\n",
       "      <td>e412d797-4fce-4595-b5e1-f2448af7dea4</td>\n",
       "      <td>not</td>\n",
       "    </tr>\n",
       "    <tr>\n",
       "      <th>1566</th>\n",
       "      <td>Germ Cell Neoplasms</td>\n",
       "      <td>TCGA-TGCT</td>\n",
       "      <td>Primary Tumor</td>\n",
       "      <td>NaN</td>\n",
       "      <td>TCGA-W4-A7U4</td>\n",
       "      <td>7bf12a3d-6588-4a69-a50b-dd481fa6f3df</td>\n",
       "      <td>TCGA-W4-A7U4-01A-01-TS1.5C5ADDD3-F392-48FD-B83...</td>\n",
       "      <td>7bf12a3d-6588-4a69-a50b-dd481fa6f3df</td>\n",
       "      <td>germ</td>\n",
       "    </tr>\n",
       "    <tr>\n",
       "      <th>1569</th>\n",
       "      <td>Nevi and Melanomas</td>\n",
       "      <td>TCGA-UVM</td>\n",
       "      <td>Primary Tumor</td>\n",
       "      <td>NaN</td>\n",
       "      <td>TCGA-V4-A9F5</td>\n",
       "      <td>8068cf62-d990-4579-9a73-992a0f3a0082</td>\n",
       "      <td>TCGA-V4-A9F5-01Z-00-DX1.D02E1BC5-7BBC-4931-8E2...</td>\n",
       "      <td>8068cf62-d990-4579-9a73-992a0f3a0082</td>\n",
       "      <td>nevi</td>\n",
       "    </tr>\n",
       "    <tr>\n",
       "      <th>2396</th>\n",
       "      <td>Ductal and Lobular Neoplasms</td>\n",
       "      <td>TCGA-PAAD</td>\n",
       "      <td>Primary Tumor</td>\n",
       "      <td>NaN</td>\n",
       "      <td>TCGA-XN-A8T3</td>\n",
       "      <td>4020cca7-c18c-4374-88b8-a340bcc84e0a</td>\n",
       "      <td>TCGA-XN-A8T3-01Z-00-DX1.77013C72-5A22-4671-BF5...</td>\n",
       "      <td>4020cca7-c18c-4374-88b8-a340bcc84e0a</td>\n",
       "      <td>ductal</td>\n",
       "    </tr>\n",
       "    <tr>\n",
       "      <th>2442</th>\n",
       "      <td>Mesothelial Neoplasms</td>\n",
       "      <td>TCGA-MESO</td>\n",
       "      <td>Primary Tumor</td>\n",
       "      <td>NaN</td>\n",
       "      <td>TCGA-UT-A88C</td>\n",
       "      <td>63c11b53-c575-48bd-90cb-fe5a16553fa5</td>\n",
       "      <td>TCGA-UT-A88C-01Z-00-DX4.70BC2CAA-E576-4D03-B99...</td>\n",
       "      <td>63c11b53-c575-48bd-90cb-fe5a16553fa5</td>\n",
       "      <td>mesothelial</td>\n",
       "    </tr>\n",
       "    <tr>\n",
       "      <th>2606</th>\n",
       "      <td>Myomatous Neoplasms</td>\n",
       "      <td>TCGA-SARC</td>\n",
       "      <td>Primary Tumor</td>\n",
       "      <td>NaN</td>\n",
       "      <td>TCGA-X6-A8C5</td>\n",
       "      <td>9085a657-24e8-40a8-95a1-708e4140e5ee</td>\n",
       "      <td>TCGA-X6-A8C5-01Z-00-DX4.3FD9C997-6A99-4734-8C4...</td>\n",
       "      <td>9085a657-24e8-40a8-95a1-708e4140e5ee</td>\n",
       "      <td>myomatous</td>\n",
       "    </tr>\n",
       "    <tr>\n",
       "      <th>2607</th>\n",
       "      <td>Soft Tissue Tumors and Sarcomas NOS</td>\n",
       "      <td>TCGA-SARC</td>\n",
       "      <td>Primary Tumor</td>\n",
       "      <td>NaN</td>\n",
       "      <td>TCGA-QC-AA9N</td>\n",
       "      <td>73a1c081-5774-4f37-ad90-aa3760709d3c</td>\n",
       "      <td>TCGA-QC-AA9N-01A-01-TSA.7F7E801E-A07C-40D7-9EA...</td>\n",
       "      <td>73a1c081-5774-4f37-ad90-aa3760709d3c</td>\n",
       "      <td>soft</td>\n",
       "    </tr>\n",
       "    <tr>\n",
       "      <th>2608</th>\n",
       "      <td>Lipomatous Neoplasms</td>\n",
       "      <td>TCGA-SARC</td>\n",
       "      <td>Primary Tumor</td>\n",
       "      <td>NaN</td>\n",
       "      <td>TCGA-DX-A3LW</td>\n",
       "      <td>5b9aaf51-3084-4115-bd51-2c6de44e6475</td>\n",
       "      <td>TCGA-DX-A3LW-01Z-00-DX1.0C50FA3C-7A1E-4D34-BC4...</td>\n",
       "      <td>5b9aaf51-3084-4115-bd51-2c6de44e6475</td>\n",
       "      <td>lipomatous</td>\n",
       "    </tr>\n",
       "    <tr>\n",
       "      <th>2610</th>\n",
       "      <td>Nerve Sheath Tumors</td>\n",
       "      <td>TCGA-SARC</td>\n",
       "      <td>Primary Tumor</td>\n",
       "      <td>NaN</td>\n",
       "      <td>TCGA-RN-A68Q</td>\n",
       "      <td>32ce2861-6055-4ab9-af83-b6d72a66b95a</td>\n",
       "      <td>TCGA-RN-A68Q-01Z-00-DX1.829BFAEC-2804-4176-9C2...</td>\n",
       "      <td>32ce2861-6055-4ab9-af83-b6d72a66b95a</td>\n",
       "      <td>nerve</td>\n",
       "    </tr>\n",
       "    <tr>\n",
       "      <th>2612</th>\n",
       "      <td>Fibromatous Neoplasms</td>\n",
       "      <td>TCGA-SARC</td>\n",
       "      <td>Primary Tumor</td>\n",
       "      <td>NaN</td>\n",
       "      <td>TCGA-DX-AB2Q</td>\n",
       "      <td>bfb72b4a-87a2-48f2-988b-5c30547e29f7</td>\n",
       "      <td>TCGA-DX-AB2Q-01A-01-TSA.95607525-C388-40A2-88B...</td>\n",
       "      <td>bfb72b4a-87a2-48f2-988b-5c30547e29f7</td>\n",
       "      <td>fibromatous</td>\n",
       "    </tr>\n",
       "    <tr>\n",
       "      <th>2619</th>\n",
       "      <td>Synovial-like Neoplasms</td>\n",
       "      <td>TCGA-SARC</td>\n",
       "      <td>Primary Tumor</td>\n",
       "      <td>NaN</td>\n",
       "      <td>TCGA-DX-AB3B</td>\n",
       "      <td>143a6673-2f08-425d-87f3-e2e62be6b132</td>\n",
       "      <td>TCGA-DX-AB3B-01Z-00-DX1.454F6EDB-796F-4BB0-A92...</td>\n",
       "      <td>143a6673-2f08-425d-87f3-e2e62be6b132</td>\n",
       "      <td>synovial-like</td>\n",
       "    </tr>\n",
       "    <tr>\n",
       "      <th>3350</th>\n",
       "      <td>Thymic Epithelial Neoplasms</td>\n",
       "      <td>TCGA-THYM</td>\n",
       "      <td>Primary Tumor</td>\n",
       "      <td>NaN</td>\n",
       "      <td>TCGA-ZB-A966</td>\n",
       "      <td>37363f7f-ea1a-4f1e-ba59-ce81f3ca3ba5</td>\n",
       "      <td>TCGA-ZB-A966-01Z-00-DX1.90019BF8-1FC9-4B75-889...</td>\n",
       "      <td>37363f7f-ea1a-4f1e-ba59-ce81f3ca3ba5</td>\n",
       "      <td>thymic</td>\n",
       "    </tr>\n",
       "    <tr>\n",
       "      <th>3447</th>\n",
       "      <td>Paragangliomas and Glomus Tumors</td>\n",
       "      <td>TCGA-PCPG</td>\n",
       "      <td>Primary Tumor</td>\n",
       "      <td>NaN</td>\n",
       "      <td>TCGA-WB-A81Q</td>\n",
       "      <td>bec8833c-655e-4392-923d-8ea28d6cd9bc</td>\n",
       "      <td>TCGA-WB-A81Q-01A-01-TS1.C76B6DD0-5F7E-42C1-BEA...</td>\n",
       "      <td>bec8833c-655e-4392-923d-8ea28d6cd9bc</td>\n",
       "      <td>paragangliomas</td>\n",
       "    </tr>\n",
       "    <tr>\n",
       "      <th>8063</th>\n",
       "      <td>Fibroepithelial Neoplasms</td>\n",
       "      <td>TCGA-BRCA</td>\n",
       "      <td>Primary Tumor</td>\n",
       "      <td>NaN</td>\n",
       "      <td>TCGA-AC-A5EI</td>\n",
       "      <td>449e8673-9900-43fb-8ee4-dde858568ea0</td>\n",
       "      <td>TCGA-AC-A5EI-01Z-00-DX1.A174D91A-730E-460C-AE7...</td>\n",
       "      <td>449e8673-9900-43fb-8ee4-dde858568ea0</td>\n",
       "      <td>fibroepithelial</td>\n",
       "    </tr>\n",
       "    <tr>\n",
       "      <th>8181</th>\n",
       "      <td>Basal Cell Neoplasms</td>\n",
       "      <td>TCGA-BRCA</td>\n",
       "      <td>Primary Tumor</td>\n",
       "      <td>NaN</td>\n",
       "      <td>TCGA-EW-A1OW</td>\n",
       "      <td>aef825ae-1b7a-4f6e-9c91-0875301eee06</td>\n",
       "      <td>TCGA-EW-A1OW-01Z-00-DX1.97888686-EBB6-4B13-AB5...</td>\n",
       "      <td>aef825ae-1b7a-4f6e-9c91-0875301eee06</td>\n",
       "      <td>basal</td>\n",
       "    </tr>\n",
       "    <tr>\n",
       "      <th>8654</th>\n",
       "      <td>Acinar Cell Neoplasms</td>\n",
       "      <td>TCGA-LUAD</td>\n",
       "      <td>Primary Tumor</td>\n",
       "      <td>NaN</td>\n",
       "      <td>TCGA-NJ-A4YI</td>\n",
       "      <td>f513ccf9-91c1-4f0b-ad64-b8cd4240cc95</td>\n",
       "      <td>TCGA-NJ-A4YI-01A-01-TS1.73EDF6BC-67F5-44E3-97F...</td>\n",
       "      <td>f513ccf9-91c1-4f0b-ad64-b8cd4240cc95</td>\n",
       "      <td>acinar</td>\n",
       "    </tr>\n",
       "    <tr>\n",
       "      <th>9293</th>\n",
       "      <td>Adnexal and Skin Appendage Neoplasms</td>\n",
       "      <td>TCGA-BRCA</td>\n",
       "      <td>Primary Tumor</td>\n",
       "      <td>NaN</td>\n",
       "      <td>TCGA-A2-A04W</td>\n",
       "      <td>38f61b93-b857-40d8-83b7-fbc3c52a5c3f</td>\n",
       "      <td>TCGA-A2-A04W-01Z-00-DX1.F7E7B945-2ADC-4741-8FC...</td>\n",
       "      <td>38f61b93-b857-40d8-83b7-fbc3c52a5c3f</td>\n",
       "      <td>adnexal</td>\n",
       "    </tr>\n",
       "  </tbody>\n",
       "</table>\n",
       "</div>"
      ],
      "text/plain": [
       "                             cases.0.disease_type cases.0.project.project_id  \\\n",
       "0                         Squamous Cell Neoplasms                  TCGA-CESC   \n",
       "12           Cystic Mucinous and Serous Neoplasms                  TCGA-CESC   \n",
       "28                   Complex Epithelial Neoplasms                  TCGA-CESC   \n",
       "75                   Adenomas and Adenocarcinomas                  TCGA-CESC   \n",
       "263   Transitional Cell Papillomas and Carcinomas                  TCGA-BLCA   \n",
       "732                       Mature B-Cell Lymphomas                  TCGA-DLBC   \n",
       "1142                     Epithelial Neoplasms NOS                  TCGA-BLCA   \n",
       "1287                                      Gliomas                   TCGA-GBM   \n",
       "1552                                 Not Reported                   TCGA-GBM   \n",
       "1566                          Germ Cell Neoplasms                  TCGA-TGCT   \n",
       "1569                           Nevi and Melanomas                   TCGA-UVM   \n",
       "2396                 Ductal and Lobular Neoplasms                  TCGA-PAAD   \n",
       "2442                        Mesothelial Neoplasms                  TCGA-MESO   \n",
       "2606                          Myomatous Neoplasms                  TCGA-SARC   \n",
       "2607          Soft Tissue Tumors and Sarcomas NOS                  TCGA-SARC   \n",
       "2608                         Lipomatous Neoplasms                  TCGA-SARC   \n",
       "2610                          Nerve Sheath Tumors                  TCGA-SARC   \n",
       "2612                        Fibromatous Neoplasms                  TCGA-SARC   \n",
       "2619                      Synovial-like Neoplasms                  TCGA-SARC   \n",
       "3350                  Thymic Epithelial Neoplasms                  TCGA-THYM   \n",
       "3447             Paragangliomas and Glomus Tumors                  TCGA-PCPG   \n",
       "8063                    Fibroepithelial Neoplasms                  TCGA-BRCA   \n",
       "8181                         Basal Cell Neoplasms                  TCGA-BRCA   \n",
       "8654                        Acinar Cell Neoplasms                  TCGA-LUAD   \n",
       "9293         Adnexal and Skin Appendage Neoplasms                  TCGA-BRCA   \n",
       "\n",
       "     cases.0.samples.0.sample_type cases.0.samples.1.sample_type  \\\n",
       "0                    Primary Tumor                           NaN   \n",
       "12                   Primary Tumor                           NaN   \n",
       "28                   Primary Tumor                           NaN   \n",
       "75                   Primary Tumor                           NaN   \n",
       "263                  Primary Tumor                           NaN   \n",
       "732                  Primary Tumor                           NaN   \n",
       "1142                 Primary Tumor                           NaN   \n",
       "1287                 Primary Tumor                           NaN   \n",
       "1552           Solid Tissue Normal                           NaN   \n",
       "1566                 Primary Tumor                           NaN   \n",
       "1569                 Primary Tumor                           NaN   \n",
       "2396                 Primary Tumor                           NaN   \n",
       "2442                 Primary Tumor                           NaN   \n",
       "2606                 Primary Tumor                           NaN   \n",
       "2607                 Primary Tumor                           NaN   \n",
       "2608                 Primary Tumor                           NaN   \n",
       "2610                 Primary Tumor                           NaN   \n",
       "2612                 Primary Tumor                           NaN   \n",
       "2619                 Primary Tumor                           NaN   \n",
       "3350                 Primary Tumor                           NaN   \n",
       "3447                 Primary Tumor                           NaN   \n",
       "8063                 Primary Tumor                           NaN   \n",
       "8181                 Primary Tumor                           NaN   \n",
       "8654                 Primary Tumor                           NaN   \n",
       "9293                 Primary Tumor                           NaN   \n",
       "\n",
       "     cases.0.submitter_id                               file_id  \\\n",
       "0            TCGA-MA-AA3X  69037019-9df5-493e-8067-d4078d78e518   \n",
       "12           TCGA-Q1-A6DV  327f4dc9-5461-44a4-8c29-f16757e5bde1   \n",
       "28           TCGA-DS-A7WF  96858e79-abc9-430a-b1be-5c08407a330a   \n",
       "75           TCGA-C5-A1ME  06da5d60-88a1-460e-924d-7a49d82ab2c0   \n",
       "263          TCGA-G2-A3IB  3aa30334-ac24-477c-a28b-e2cc211748e2   \n",
       "732          TCGA-GS-A9TZ  233e0ac3-e8a6-4132-b4cd-68ddcd3890bd   \n",
       "1142         TCGA-ZF-AA4N  ec9adc5f-a25c-4e89-9c48-58f3bb23523d   \n",
       "1287         TCGA-02-0321  7b4519a1-7d6a-4c47-8563-a044f2448e55   \n",
       "1552         TCGA-06-0675  e412d797-4fce-4595-b5e1-f2448af7dea4   \n",
       "1566         TCGA-W4-A7U4  7bf12a3d-6588-4a69-a50b-dd481fa6f3df   \n",
       "1569         TCGA-V4-A9F5  8068cf62-d990-4579-9a73-992a0f3a0082   \n",
       "2396         TCGA-XN-A8T3  4020cca7-c18c-4374-88b8-a340bcc84e0a   \n",
       "2442         TCGA-UT-A88C  63c11b53-c575-48bd-90cb-fe5a16553fa5   \n",
       "2606         TCGA-X6-A8C5  9085a657-24e8-40a8-95a1-708e4140e5ee   \n",
       "2607         TCGA-QC-AA9N  73a1c081-5774-4f37-ad90-aa3760709d3c   \n",
       "2608         TCGA-DX-A3LW  5b9aaf51-3084-4115-bd51-2c6de44e6475   \n",
       "2610         TCGA-RN-A68Q  32ce2861-6055-4ab9-af83-b6d72a66b95a   \n",
       "2612         TCGA-DX-AB2Q  bfb72b4a-87a2-48f2-988b-5c30547e29f7   \n",
       "2619         TCGA-DX-AB3B  143a6673-2f08-425d-87f3-e2e62be6b132   \n",
       "3350         TCGA-ZB-A966  37363f7f-ea1a-4f1e-ba59-ce81f3ca3ba5   \n",
       "3447         TCGA-WB-A81Q  bec8833c-655e-4392-923d-8ea28d6cd9bc   \n",
       "8063         TCGA-AC-A5EI  449e8673-9900-43fb-8ee4-dde858568ea0   \n",
       "8181         TCGA-EW-A1OW  aef825ae-1b7a-4f6e-9c91-0875301eee06   \n",
       "8654         TCGA-NJ-A4YI  f513ccf9-91c1-4f0b-ad64-b8cd4240cc95   \n",
       "9293         TCGA-A2-A04W  38f61b93-b857-40d8-83b7-fbc3c52a5c3f   \n",
       "\n",
       "                                              file_name  \\\n",
       "0     TCGA-MA-AA3X-01Z-00-DX1.44657CDB-53F1-4DED-AE5...   \n",
       "12    TCGA-Q1-A6DV-01Z-00-DX1.A31CD86F-703A-462F-860...   \n",
       "28    TCGA-DS-A7WF-01A-01-TSA.3E5926D1-9D6F-46F1-A68...   \n",
       "75    TCGA-C5-A1ME-01Z-00-DX1.44645529-F452-49AD-804...   \n",
       "263   TCGA-G2-A3IB-01A-01-TSA.70AA56B1-1580-4FE2-A83...   \n",
       "732   TCGA-GS-A9TZ-01A-01-TSA.686AE713-E246-41CE-811...   \n",
       "1142  TCGA-ZF-AA4N-01A-01-TS1.596D27B2-1418-43B5-8C7...   \n",
       "1287  TCGA-02-0321-01Z-00-DX1.3c57c27d-4a4f-45af-bf8...   \n",
       "1552  TCGA-06-0675-11A-03-TS3.A650CD6A-E0FE-4C6E-8CC...   \n",
       "1566  TCGA-W4-A7U4-01A-01-TS1.5C5ADDD3-F392-48FD-B83...   \n",
       "1569  TCGA-V4-A9F5-01Z-00-DX1.D02E1BC5-7BBC-4931-8E2...   \n",
       "2396  TCGA-XN-A8T3-01Z-00-DX1.77013C72-5A22-4671-BF5...   \n",
       "2442  TCGA-UT-A88C-01Z-00-DX4.70BC2CAA-E576-4D03-B99...   \n",
       "2606  TCGA-X6-A8C5-01Z-00-DX4.3FD9C997-6A99-4734-8C4...   \n",
       "2607  TCGA-QC-AA9N-01A-01-TSA.7F7E801E-A07C-40D7-9EA...   \n",
       "2608  TCGA-DX-A3LW-01Z-00-DX1.0C50FA3C-7A1E-4D34-BC4...   \n",
       "2610  TCGA-RN-A68Q-01Z-00-DX1.829BFAEC-2804-4176-9C2...   \n",
       "2612  TCGA-DX-AB2Q-01A-01-TSA.95607525-C388-40A2-88B...   \n",
       "2619  TCGA-DX-AB3B-01Z-00-DX1.454F6EDB-796F-4BB0-A92...   \n",
       "3350  TCGA-ZB-A966-01Z-00-DX1.90019BF8-1FC9-4B75-889...   \n",
       "3447  TCGA-WB-A81Q-01A-01-TS1.C76B6DD0-5F7E-42C1-BEA...   \n",
       "8063  TCGA-AC-A5EI-01Z-00-DX1.A174D91A-730E-460C-AE7...   \n",
       "8181  TCGA-EW-A1OW-01Z-00-DX1.97888686-EBB6-4B13-AB5...   \n",
       "8654  TCGA-NJ-A4YI-01A-01-TS1.73EDF6BC-67F5-44E3-97F...   \n",
       "9293  TCGA-A2-A04W-01Z-00-DX1.F7E7B945-2ADC-4741-8FC...   \n",
       "\n",
       "                                        id            label  \n",
       "0     69037019-9df5-493e-8067-d4078d78e518         squamous  \n",
       "12    327f4dc9-5461-44a4-8c29-f16757e5bde1           cystic  \n",
       "28    96858e79-abc9-430a-b1be-5c08407a330a          complex  \n",
       "75    06da5d60-88a1-460e-924d-7a49d82ab2c0         adenomas  \n",
       "263   3aa30334-ac24-477c-a28b-e2cc211748e2     transitional  \n",
       "732   233e0ac3-e8a6-4132-b4cd-68ddcd3890bd           mature  \n",
       "1142  ec9adc5f-a25c-4e89-9c48-58f3bb23523d       epithelial  \n",
       "1287  7b4519a1-7d6a-4c47-8563-a044f2448e55          gliomas  \n",
       "1552  e412d797-4fce-4595-b5e1-f2448af7dea4              not  \n",
       "1566  7bf12a3d-6588-4a69-a50b-dd481fa6f3df             germ  \n",
       "1569  8068cf62-d990-4579-9a73-992a0f3a0082             nevi  \n",
       "2396  4020cca7-c18c-4374-88b8-a340bcc84e0a           ductal  \n",
       "2442  63c11b53-c575-48bd-90cb-fe5a16553fa5      mesothelial  \n",
       "2606  9085a657-24e8-40a8-95a1-708e4140e5ee        myomatous  \n",
       "2607  73a1c081-5774-4f37-ad90-aa3760709d3c             soft  \n",
       "2608  5b9aaf51-3084-4115-bd51-2c6de44e6475       lipomatous  \n",
       "2610  32ce2861-6055-4ab9-af83-b6d72a66b95a            nerve  \n",
       "2612  bfb72b4a-87a2-48f2-988b-5c30547e29f7      fibromatous  \n",
       "2619  143a6673-2f08-425d-87f3-e2e62be6b132    synovial-like  \n",
       "3350  37363f7f-ea1a-4f1e-ba59-ce81f3ca3ba5           thymic  \n",
       "3447  bec8833c-655e-4392-923d-8ea28d6cd9bc   paragangliomas  \n",
       "8063  449e8673-9900-43fb-8ee4-dde858568ea0  fibroepithelial  \n",
       "8181  aef825ae-1b7a-4f6e-9c91-0875301eee06            basal  \n",
       "8654  f513ccf9-91c1-4f0b-ad64-b8cd4240cc95           acinar  \n",
       "9293  38f61b93-b857-40d8-83b7-fbc3c52a5c3f          adnexal  "
      ]
     },
     "execution_count": 6,
     "metadata": {},
     "output_type": "execute_result"
    }
   ],
   "source": [
    "labels_sample"
   ]
  },
  {
   "cell_type": "code",
   "execution_count": 7,
   "metadata": {},
   "outputs": [
    {
     "data": {
      "text/plain": [
       "11007"
      ]
     },
     "execution_count": 7,
     "metadata": {},
     "output_type": "execute_result"
    }
   ],
   "source": [
    "# Get all labels \n",
    "all_cases = list(labels_df[\"cases.0.submitter_id\"])\n",
    "len(all_cases)"
   ]
  },
  {
   "cell_type": "code",
   "execution_count": 8,
   "metadata": {},
   "outputs": [],
   "source": [
    "def get_svs_paths(all_svs: List[Path], cases: List[str]):\n",
    "    # Returns single svs for each patient given a set of cases and a list of all svs\n",
    "    svs_counts = defaultdict(int)\n",
    "    svs_paths = []\n",
    "    for svs_path in all_svs: # iterate through each svs\n",
    "        for sample_case in cases: # for each case\n",
    "            # if sample_case in str(svs_path) and \"DX\" in str(svs_path): \n",
    "            if sample_case in str(svs_path):\n",
    "                if svs_counts[sample_case] == 0: \n",
    "                    svs_paths.append(svs_path)\n",
    "                svs_counts[sample_case] += 1\n",
    "    return svs_paths\n",
    "\n",
    "all_svs = list(data_dir.rglob(\"./slides/*.svs\"))\n",
    "svs_paths = get_svs_paths(all_svs=all_svs, cases=all_cases)\n",
    "\n"
   ]
  },
  {
   "cell_type": "code",
   "execution_count": 9,
   "metadata": {},
   "outputs": [
    {
     "data": {
      "text/plain": [
       "10697"
      ]
     },
     "execution_count": 9,
     "metadata": {},
     "output_type": "execute_result"
    }
   ],
   "source": [
    "len(all_svs)"
   ]
  },
  {
   "attachments": {},
   "cell_type": "markdown",
   "metadata": {},
   "source": [
    "Extract Patches\n"
   ]
  },
  {
   "cell_type": "code",
   "execution_count": 10,
   "metadata": {},
   "outputs": [],
   "source": [
    "# output_dir = data_dir / \"patches\"\n",
    "# extract_patches(paths=svs_paths, output_dir=output_dir)"
   ]
  },
  {
   "attachments": {},
   "cell_type": "markdown",
   "metadata": {},
   "source": [
    "Inference"
   ]
  },
  {
   "attachments": {},
   "cell_type": "markdown",
   "metadata": {},
   "source": [
    "Data Loader"
   ]
  },
  {
   "cell_type": "code",
   "execution_count": 11,
   "metadata": {},
   "outputs": [],
   "source": [
    "class PatchDataset(data.Dataset):\n",
    "    def __init__(self, patch_paths: List[Path] , labels_df: pd.DataFrame, transform = None):\n",
    "        \"\"\"\n",
    "        Notes:\n",
    "            assumes `label_df` has columns `cases.0.submitter_id` and `label` mapping\n",
    "            TCGA id to corresponding class. \n",
    "        \"\"\"\n",
    "        self.labels_df = labels_df\n",
    "        self.patch_paths = patch_paths\n",
    "        self.transform = transform\n",
    "        \n",
    "        self.last_idx = 0\n",
    "        self.labels_to_idx = dict()\n",
    "\n",
    "    def __len__(self):\n",
    "        return len(self.patch_paths)\n",
    "\n",
    "    def __getitem__(self, idx):\n",
    "        # Get patch and preprocess\n",
    "        patch_path = self.patch_paths[idx]\n",
    "        patch_stem = patch_path.stem\n",
    "        case_id = \"-\".join(str(patch_stem).split(\".\")[0].split(\"-\")[:3])\n",
    "        patch = Image.open(patch_path)\n",
    "        if self.transform is not None:\n",
    "            patch = self.transform(patch)\n",
    "        \n",
    "        # Get corresponding label\n",
    "        label = self.labels_df[self.labels_df[\"cases.0.submitter_id\"] == case_id][\"label\"]\n",
    "        if len(label) == 0: \n",
    "            raise ValueError(\"Can't find corresponding label a given case.\")\n",
    "        label = label.values[0] # extract single label\n",
    "        \n",
    "#         print(label)\n",
    "        if label not in self.labels_to_idx: \n",
    "            self.labels_to_idx[label] = self.last_idx\n",
    "            self.last_idx += 1\n",
    "\n",
    "        label_idx = self.labels_to_idx[label]\n",
    "            \n",
    "        return patch, label_idx"
   ]
  },
  {
   "attachments": {},
   "cell_type": "markdown",
   "metadata": {},
   "source": [
    "Load Patches"
   ]
  },
  {
   "cell_type": "code",
   "execution_count": 12,
   "metadata": {},
   "outputs": [
    {
     "name": "stdout",
     "output_type": "stream",
     "text": [
      "Number of paths:  1999969\n",
      "Path Director ../../../../data/data/patches/10.0_224\n"
     ]
    }
   ],
   "source": [
    "patch_dir = data_dir / \"patches\" / \"10.0_224\"\n",
    "patch_paths = list(patch_dir.rglob(\"./*.png\"))\n",
    "print(\"Number of paths: \", len(patch_paths))\n",
    "print(\"Path Director\", patch_dir)\n",
    "# sample_image = preprocess(Image.open(patch_paths[0])).unsqueeze(0).to(device)"
   ]
  },
  {
   "cell_type": "code",
   "execution_count": 13,
   "metadata": {},
   "outputs": [
    {
     "data": {
      "text/plain": [
       "1332"
      ]
     },
     "execution_count": 13,
     "metadata": {},
     "output_type": "execute_result"
    }
   ],
   "source": [
    "unq_ids = np.unique([\"-\".join(str(patch_path.stem).split(\".\")[0].split(\"-\")[:3]) for patch_path in patch_paths])\n",
    "len(unq_ids)"
   ]
  },
  {
   "cell_type": "code",
   "execution_count": 14,
   "metadata": {},
   "outputs": [
    {
     "name": "stdout",
     "output_type": "stream",
     "text": [
      "1065\n",
      "267\n"
     ]
    }
   ],
   "source": [
    "train_ids, test_ids = train_test_split(unq_ids, test_size=0.2, random_state=42)\n",
    "print(len(train_ids))\n",
    "print(len(test_ids))"
   ]
  },
  {
   "cell_type": "code",
   "execution_count": 15,
   "metadata": {},
   "outputs": [],
   "source": [
    "# get patches containing each id\n",
    "def get_patches_from_ids(ids, patch_paths): \n",
    "    paths = []\n",
    "    for id in ids: \n",
    "        for patch in patch_paths: \n",
    "            if id in str(patch): \n",
    "                paths.append(patch)\n",
    "    return paths\n",
    "\n",
    "train_paths = get_patches_from_ids(ids=train_ids, patch_paths=patch_paths)\n",
    "test_paths = get_patches_from_ids(ids=test_ids, patch_paths=patch_paths)\n"
   ]
  },
  {
   "cell_type": "code",
   "execution_count": 16,
   "metadata": {},
   "outputs": [
    {
     "name": "stdout",
     "output_type": "stream",
     "text": [
      "Num train paths:  1606868\n"
     ]
    }
   ],
   "source": [
    "print(\"Num train paths: \", len(train_paths))"
   ]
  },
  {
   "cell_type": "code",
   "execution_count": 17,
   "metadata": {},
   "outputs": [
    {
     "name": "stdout",
     "output_type": "stream",
     "text": [
      "Num test paths:  393101\n"
     ]
    }
   ],
   "source": [
    "print(\"Num test paths: \", len(test_paths))"
   ]
  },
  {
   "cell_type": "code",
   "execution_count": 34,
   "metadata": {},
   "outputs": [
    {
     "name": "stdout",
     "output_type": "stream",
     "text": [
      "17\n",
      "12\n"
     ]
    }
   ],
   "source": [
    "# run model on full test dataset\n",
    "test_data_dir = patch_dir\n",
    "# test_dataset = datasets.ImageFolder(test_data_dir, transform=preprocess)\n",
    "train_labels_df = labels_df[labels_df['cases.0.submitter_id'].isin(train_ids)]\n",
    "test_labels_df = labels_df[labels_df['cases.0.submitter_id'].isin(test_ids)]\n",
    "\n",
    "\n",
    "print(train_labels_df['label'].nunique())\n",
    "print(test_labels_df['label'].nunique())"
   ]
  },
  {
   "cell_type": "code",
   "execution_count": 35,
   "metadata": {},
   "outputs": [],
   "source": [
    "\n",
    "train_dataset = PatchDataset(\n",
    "    patch_paths=train_paths,\n",
    "    labels_df=train_labels_df, \n",
    "    transform=preprocess,\n",
    ")\n",
    "\n",
    "test_dataset = PatchDataset(\n",
    "    patch_paths=test_paths, \n",
    "    labels_df=test_labels_df, \n",
    "    transform=preprocess,\n",
    ")\n",
    "\n",
    "# Create a DataLoader to load the test dataset in batches\n",
    "batch_size = 32\n",
    "num_workers = 4\n",
    "train_loader = torch.utils.data.DataLoader(train_dataset, batch_size=batch_size, shuffle=False, num_workers=num_workers)\n",
    "test_loader = torch.utils.data.DataLoader(test_dataset, batch_size=batch_size, shuffle=False, num_workers=num_workers)"
   ]
  },
  {
   "cell_type": "code",
   "execution_count": null,
   "metadata": {},
   "outputs": [],
   "source": []
  },
  {
   "attachments": {},
   "cell_type": "markdown",
   "metadata": {},
   "source": [
    "Linear Evaluation\n",
    "\n",
    "First, train a linear model on a train dataset\n",
    "Second, evaluate linear model on a test datasets"
   ]
  },
  {
   "cell_type": "code",
   "execution_count": 24,
   "metadata": {},
   "outputs": [
    {
     "name": "stderr",
     "output_type": "stream",
     "text": [
      "100%|██████████| 50215/50215 [38:35<00:00, 21.68it/s] \n"
     ]
    }
   ],
   "source": [
    "logits_list = []\n",
    "labels_list = []\n",
    "torch.multiprocessing.set_sharing_strategy('file_system')\n",
    "for batch_idx, (images, labels) in tqdm(enumerate(train_loader), total=len(train_loader)):\n",
    "    with torch.no_grad():\n",
    "        images = images.to(device)\n",
    "        features = model.encode_image(images)\n",
    "        # move to gpu\n",
    "        features.to(device)\n",
    "        labels.to(device)\n",
    "        \n",
    "    logits_list.append(features)\n",
    "    labels_list.append(labels)\n",
    "logits = torch.cat(logits_list, dim=0)\n",
    "labels = torch.cat(labels_list, dim=0)\n"
   ]
  },
  {
   "cell_type": "code",
   "execution_count": 33,
   "metadata": {},
   "outputs": [
    {
     "ename": "RuntimeError",
     "evalue": "CUDA error: device-side assert triggered\nCUDA kernel errors might be asynchronously reported at some other API call,so the stacktrace below might be incorrect.\nFor debugging consider passing CUDA_LAUNCH_BLOCKING=1.",
     "output_type": "error",
     "traceback": [
      "\u001b[0;31m---------------------------------------------------------------------------\u001b[0m",
      "\u001b[0;31mRuntimeError\u001b[0m                              Traceback (most recent call last)",
      "File \u001b[0;32m/opt/conda/envs/pytorch/lib/python3.9/site-packages/IPython/core/formatters.py:706\u001b[0m, in \u001b[0;36mPlainTextFormatter.__call__\u001b[0;34m(self, obj)\u001b[0m\n\u001b[1;32m    699\u001b[0m stream \u001b[39m=\u001b[39m StringIO()\n\u001b[1;32m    700\u001b[0m printer \u001b[39m=\u001b[39m pretty\u001b[39m.\u001b[39mRepresentationPrinter(stream, \u001b[39mself\u001b[39m\u001b[39m.\u001b[39mverbose,\n\u001b[1;32m    701\u001b[0m     \u001b[39mself\u001b[39m\u001b[39m.\u001b[39mmax_width, \u001b[39mself\u001b[39m\u001b[39m.\u001b[39mnewline,\n\u001b[1;32m    702\u001b[0m     max_seq_length\u001b[39m=\u001b[39m\u001b[39mself\u001b[39m\u001b[39m.\u001b[39mmax_seq_length,\n\u001b[1;32m    703\u001b[0m     singleton_pprinters\u001b[39m=\u001b[39m\u001b[39mself\u001b[39m\u001b[39m.\u001b[39msingleton_printers,\n\u001b[1;32m    704\u001b[0m     type_pprinters\u001b[39m=\u001b[39m\u001b[39mself\u001b[39m\u001b[39m.\u001b[39mtype_printers,\n\u001b[1;32m    705\u001b[0m     deferred_pprinters\u001b[39m=\u001b[39m\u001b[39mself\u001b[39m\u001b[39m.\u001b[39mdeferred_printers)\n\u001b[0;32m--> 706\u001b[0m printer\u001b[39m.\u001b[39;49mpretty(obj)\n\u001b[1;32m    707\u001b[0m printer\u001b[39m.\u001b[39mflush()\n\u001b[1;32m    708\u001b[0m \u001b[39mreturn\u001b[39;00m stream\u001b[39m.\u001b[39mgetvalue()\n",
      "File \u001b[0;32m/opt/conda/envs/pytorch/lib/python3.9/site-packages/IPython/lib/pretty.py:410\u001b[0m, in \u001b[0;36mRepresentationPrinter.pretty\u001b[0;34m(self, obj)\u001b[0m\n\u001b[1;32m    407\u001b[0m                         \u001b[39mreturn\u001b[39;00m meth(obj, \u001b[39mself\u001b[39m, cycle)\n\u001b[1;32m    408\u001b[0m                 \u001b[39mif\u001b[39;00m \u001b[39mcls\u001b[39m \u001b[39mis\u001b[39;00m \u001b[39mnot\u001b[39;00m \u001b[39mobject\u001b[39m \\\n\u001b[1;32m    409\u001b[0m                         \u001b[39mand\u001b[39;00m callable(\u001b[39mcls\u001b[39m\u001b[39m.\u001b[39m\u001b[39m__dict__\u001b[39m\u001b[39m.\u001b[39mget(\u001b[39m'\u001b[39m\u001b[39m__repr__\u001b[39m\u001b[39m'\u001b[39m)):\n\u001b[0;32m--> 410\u001b[0m                     \u001b[39mreturn\u001b[39;00m _repr_pprint(obj, \u001b[39mself\u001b[39;49m, cycle)\n\u001b[1;32m    412\u001b[0m     \u001b[39mreturn\u001b[39;00m _default_pprint(obj, \u001b[39mself\u001b[39m, cycle)\n\u001b[1;32m    413\u001b[0m \u001b[39mfinally\u001b[39;00m:\n",
      "File \u001b[0;32m/opt/conda/envs/pytorch/lib/python3.9/site-packages/IPython/lib/pretty.py:778\u001b[0m, in \u001b[0;36m_repr_pprint\u001b[0;34m(obj, p, cycle)\u001b[0m\n\u001b[1;32m    776\u001b[0m \u001b[39m\u001b[39m\u001b[39m\"\"\"A pprint that just redirects to the normal repr function.\"\"\"\u001b[39;00m\n\u001b[1;32m    777\u001b[0m \u001b[39m# Find newlines and replace them with p.break_()\u001b[39;00m\n\u001b[0;32m--> 778\u001b[0m output \u001b[39m=\u001b[39m \u001b[39mrepr\u001b[39;49m(obj)\n\u001b[1;32m    779\u001b[0m lines \u001b[39m=\u001b[39m output\u001b[39m.\u001b[39msplitlines()\n\u001b[1;32m    780\u001b[0m \u001b[39mwith\u001b[39;00m p\u001b[39m.\u001b[39mgroup():\n",
      "File \u001b[0;32m/opt/conda/envs/pytorch/lib/python3.9/site-packages/torch/_tensor.py:427\u001b[0m, in \u001b[0;36mTensor.__repr__\u001b[0;34m(self, tensor_contents)\u001b[0m\n\u001b[1;32m    423\u001b[0m     \u001b[39mreturn\u001b[39;00m handle_torch_function(\n\u001b[1;32m    424\u001b[0m         Tensor\u001b[39m.\u001b[39m\u001b[39m__repr__\u001b[39m, (\u001b[39mself\u001b[39m,), \u001b[39mself\u001b[39m, tensor_contents\u001b[39m=\u001b[39mtensor_contents\n\u001b[1;32m    425\u001b[0m     )\n\u001b[1;32m    426\u001b[0m \u001b[39m# All strings are unicode in Python 3.\u001b[39;00m\n\u001b[0;32m--> 427\u001b[0m \u001b[39mreturn\u001b[39;00m torch\u001b[39m.\u001b[39;49m_tensor_str\u001b[39m.\u001b[39;49m_str(\u001b[39mself\u001b[39;49m, tensor_contents\u001b[39m=\u001b[39;49mtensor_contents)\n",
      "File \u001b[0;32m/opt/conda/envs/pytorch/lib/python3.9/site-packages/torch/_tensor_str.py:637\u001b[0m, in \u001b[0;36m_str\u001b[0;34m(self, tensor_contents)\u001b[0m\n\u001b[1;32m    635\u001b[0m \u001b[39mwith\u001b[39;00m torch\u001b[39m.\u001b[39mno_grad():\n\u001b[1;32m    636\u001b[0m     guard \u001b[39m=\u001b[39m torch\u001b[39m.\u001b[39m_C\u001b[39m.\u001b[39m_DisableFuncTorch()\n\u001b[0;32m--> 637\u001b[0m     \u001b[39mreturn\u001b[39;00m _str_intern(\u001b[39mself\u001b[39;49m, tensor_contents\u001b[39m=\u001b[39;49mtensor_contents)\n",
      "File \u001b[0;32m/opt/conda/envs/pytorch/lib/python3.9/site-packages/torch/_tensor_str.py:568\u001b[0m, in \u001b[0;36m_str_intern\u001b[0;34m(inp, tensor_contents)\u001b[0m\n\u001b[1;32m    566\u001b[0m                     tensor_str \u001b[39m=\u001b[39m _tensor_str(\u001b[39mself\u001b[39m\u001b[39m.\u001b[39mto_dense(), indent)\n\u001b[1;32m    567\u001b[0m                 \u001b[39melse\u001b[39;00m:\n\u001b[0;32m--> 568\u001b[0m                     tensor_str \u001b[39m=\u001b[39m _tensor_str(\u001b[39mself\u001b[39;49m, indent)\n\u001b[1;32m    570\u001b[0m \u001b[39mif\u001b[39;00m \u001b[39mself\u001b[39m\u001b[39m.\u001b[39mlayout \u001b[39m!=\u001b[39m torch\u001b[39m.\u001b[39mstrided:\n\u001b[1;32m    571\u001b[0m     suffixes\u001b[39m.\u001b[39mappend(\u001b[39m\"\u001b[39m\u001b[39mlayout=\u001b[39m\u001b[39m\"\u001b[39m \u001b[39m+\u001b[39m \u001b[39mstr\u001b[39m(\u001b[39mself\u001b[39m\u001b[39m.\u001b[39mlayout))\n",
      "File \u001b[0;32m/opt/conda/envs/pytorch/lib/python3.9/site-packages/torch/_tensor_str.py:310\u001b[0m, in \u001b[0;36m_tensor_str\u001b[0;34m(self, indent)\u001b[0m\n\u001b[1;32m    307\u001b[0m     \u001b[39mself\u001b[39m \u001b[39m=\u001b[39m \u001b[39mself\u001b[39m\u001b[39m.\u001b[39mresolve_neg()\n\u001b[1;32m    309\u001b[0m \u001b[39mif\u001b[39;00m \u001b[39mself\u001b[39m\u001b[39m.\u001b[39mdtype \u001b[39mis\u001b[39;00m torch\u001b[39m.\u001b[39mfloat16 \u001b[39mor\u001b[39;00m \u001b[39mself\u001b[39m\u001b[39m.\u001b[39mdtype \u001b[39mis\u001b[39;00m torch\u001b[39m.\u001b[39mbfloat16:\n\u001b[0;32m--> 310\u001b[0m     \u001b[39mself\u001b[39m \u001b[39m=\u001b[39m \u001b[39mself\u001b[39;49m\u001b[39m.\u001b[39;49mfloat()\n\u001b[1;32m    312\u001b[0m \u001b[39mif\u001b[39;00m \u001b[39mself\u001b[39m\u001b[39m.\u001b[39mdtype \u001b[39mis\u001b[39;00m torch\u001b[39m.\u001b[39mcomplex32:\n\u001b[1;32m    313\u001b[0m     \u001b[39mself\u001b[39m \u001b[39m=\u001b[39m \u001b[39mself\u001b[39m\u001b[39m.\u001b[39mcfloat()\n",
      "\u001b[0;31mRuntimeError\u001b[0m: CUDA error: device-side assert triggered\nCUDA kernel errors might be asynchronously reported at some other API call,so the stacktrace below might be incorrect.\nFor debugging consider passing CUDA_LAUNCH_BLOCKING=1."
     ]
    }
   ],
   "source": [
    "logits\n"
   ]
  },
  {
   "cell_type": "code",
   "execution_count": 25,
   "metadata": {},
   "outputs": [
    {
     "data": {
      "text/plain": [
       "Linear(in_features=512, out_features=4, bias=True)"
      ]
     },
     "execution_count": 25,
     "metadata": {},
     "output_type": "execute_result"
    }
   ],
   "source": [
    "# Create a DataLoader to load the test dataset in batches\n",
    "num_ftrs = 512\n",
    "num_classes = train_labels_df['label'].nunique()\n",
    "\n",
    "# Define the linear classifier and the loss function\n",
    "linear_classifier = nn.Linear(num_ftrs, num_classes)\n",
    "linear_classifier = linear_classifier.to(device)\n",
    "criterion = nn.CrossEntropyLoss()\n",
    "\n",
    "# Define the optimizer for the linear classifier\n",
    "optimizer = optim.SGD(linear_classifier.parameters(), lr=0.01, momentum=0.9)\n",
    "\n",
    "# Set the linear classifier to training mode\n",
    "linear_classifier.train()"
   ]
  },
  {
   "cell_type": "code",
   "execution_count": 30,
   "metadata": {},
   "outputs": [
    {
     "name": "stderr",
     "output_type": "stream",
     "text": [
      "  0%|          | 0/30 [00:07<?, ?it/s]\n"
     ]
    },
    {
     "ename": "RuntimeError",
     "evalue": "CUDA error: device-side assert triggered\nCUDA kernel errors might be asynchronously reported at some other API call,so the stacktrace below might be incorrect.\nFor debugging consider passing CUDA_LAUNCH_BLOCKING=1.",
     "output_type": "error",
     "traceback": [
      "\u001b[0;31m---------------------------------------------------------------------------\u001b[0m",
      "\u001b[0;31mRuntimeError\u001b[0m                              Traceback (most recent call last)",
      "Cell \u001b[0;32mIn[30], line 10\u001b[0m\n\u001b[1;32m      7\u001b[0m optimizer\u001b[39m.\u001b[39mzero_grad()\n\u001b[1;32m      9\u001b[0m features \u001b[39m=\u001b[39m features\u001b[39m.\u001b[39mto(device)\n\u001b[0;32m---> 10\u001b[0m targets \u001b[39m=\u001b[39m targets\u001b[39m.\u001b[39;49mto(device)\n\u001b[1;32m     13\u001b[0m outputs \u001b[39m=\u001b[39m linear_classifier(features\u001b[39m.\u001b[39mfloat())\n\u001b[1;32m     14\u001b[0m loss \u001b[39m=\u001b[39m criterion(outputs\u001b[39m.\u001b[39munsqueeze(\u001b[39m0\u001b[39m), targets\u001b[39m.\u001b[39munsqueeze(\u001b[39m0\u001b[39m))\n",
      "\u001b[0;31mRuntimeError\u001b[0m: CUDA error: device-side assert triggered\nCUDA kernel errors might be asynchronously reported at some other API call,so the stacktrace below might be incorrect.\nFor debugging consider passing CUDA_LAUNCH_BLOCKING=1."
     ]
    }
   ],
   "source": [
    "# Train the linear classifier on the pre-trained logits using the test dataset\n",
    "num_epochs = 30\n",
    "for epoch in tqdm(range(num_epochs)):\n",
    "    running_loss = 0.0\n",
    "    # train for each of the logits and labels, want to batch this if possible\n",
    "    for i, (features, targets) in enumerate(zip(logits, labels)):\n",
    "        optimizer.zero_grad()\n",
    "\n",
    "        features = features.to(device)\n",
    "        targets = targets.to(device)\n",
    "\n",
    "\n",
    "        outputs = linear_classifier(features.float())\n",
    "        loss = criterion(outputs.unsqueeze(0), targets.unsqueeze(0))\n",
    "        loss.backward()\n",
    "        optimizer.step()\n",
    "        running_loss += loss.item()\n",
    "    print('Epoch [%d/%d], Loss: %.4f' % (epoch+1, num_epochs, running_loss))"
   ]
  },
  {
   "cell_type": "code",
   "execution_count": null,
   "metadata": {},
   "outputs": [],
   "source": [
    "# # logits_list = []\n",
    "# # labels_list = []\n",
    "\n",
    "# # TODO: move into a function\n",
    "# num_epochs = 30\n",
    "# for epoch in range(num_epochs):\n",
    "#     running_loss = 0.0\n",
    "#     for batch_idx, (images, labels) in tqdm(enumerate(train_loader), total=len(train_loader)):\n",
    "#         with torch.no_grad():\n",
    "#             images = images.to(device)\n",
    "#             features = model.encode_image(images)\n",
    "#             features.to(device)\n",
    "#             labels_one_hot = torch.nn.functional.one_hot(labels, num_classes=4).float().to(device) # convert labels to one-hot encoding\n",
    "#             outputs = linear_classifier(features.float())\n",
    "#             loss = criterion(outputs, labels_one_hot)\n",
    "#             loss.backward()\n",
    "#             optimizer.step()\n",
    "#             running_loss += loss.item()\n",
    "    \n",
    "#     print('Epoch [%d/%d], Loss: %.4f' % (epoch+1, num_epochs, running_loss))\n",
    "\n",
    "# # logits = torch.cat(logits_list, dim=0)\n",
    "# # labels = torch.cat(labels_list, dim=0)"
   ]
  },
  {
   "cell_type": "code",
   "execution_count": null,
   "metadata": {},
   "outputs": [],
   "source": [
    "# compute the model predictions for the test dataset\n",
    "y_pred = []\n",
    "y_true = []\n",
    "model.eval()\n",
    "with torch.no_grad():\n",
    "    for images, labels in tqdm(test_loader):\n",
    "        images = images.to(device)\n",
    "        labels = labels.to(device)\n",
    "\n",
    "        output = model.encode_image(images) # clip \n",
    "        output = linear_classifier(output.float())\n",
    "        \n",
    "        y_pred.append(output)\n",
    "        y_true.append(labels)"
   ]
  },
  {
   "cell_type": "code",
   "execution_count": null,
   "metadata": {},
   "outputs": [],
   "source": [
    "# assume y_pred is a tensor of shape (num_examples, num_classes) containing the outputs of the linear classifier\n",
    "# and y_true is a tensor of shape (num_examples) containing the categorical labels\n",
    "y_pred = torch.cat(y_pred, dim=0)\n",
    "y_true = torch.cat(y_true, dim=0)\n",
    "\n",
    "y_prob = torch.softmax(y_pred, dim=1)\n",
    "y_true = y_true.detach().cpu().numpy()\n",
    "y_prob = y_prob.detach().cpu().numpy()\n",
    "# apply softmax to the outputs of the linear classifier to obtain the predicted probabilities\n",
    "\n",
    "# compute the AUROC for each class using the predicted probabilities and the corresponding categorical labels\n",
    "aurocs = []\n",
    "for c in range(num_classes):\n",
    "    y_true_c = (y_true == c)\n",
    "    y_prob_c = y_prob[:, c]\n",
    "    auroc_c = roc_auc_score(y_true_c, y_prob_c)\n",
    "    aurocs.append(auroc_c)\n",
    "\n",
    "# compute the mean AUROC over all classes\n",
    "mean_auroc = sum(aurocs) / num_classes"
   ]
  },
  {
   "cell_type": "code",
   "execution_count": null,
   "metadata": {},
   "outputs": [],
   "source": [
    "print(\"multiclass AUROC: \", aurocs, mean_auroc)"
   ]
  },
  {
   "cell_type": "code",
   "execution_count": null,
   "metadata": {},
   "outputs": [],
   "source": [
    "# acc@k, prec@k, rec@k\n",
    "def top_k_acc_prec_rec(y_prob, y_true, k):\n",
    "    # y_prob is a numpy array of shape (num_examples, num_classes) containing the predicted probabilities\n",
    "    # y_true is a numpy array of shape (num_examples) containing the true labels\n",
    "    # k is the number of classes to consider for top-k accuracy, precision, and recall\n",
    "\n",
    "    # get the indices of the top k predicted probabilities for each example\n",
    "    top_k_preds = np.argsort(y_prob, axis=1)[:, -k:]\n",
    "\n",
    "    # compute accuracy@k, precision@k, and recall@k for each example\n",
    "    acc_k = np.mean(np.any(top_k_preds == y_true[:, np.newaxis], axis=1))\n",
    "    prec_k = np.mean([np.any(top_k_preds[i] == y_true[i]) for i in range(len(y_true))])\n",
    "    rec_k = np.mean([np.any(y_true[i] == top_k_preds[i]) for i in range(len(y_true))])\n",
    "\n",
    "    return acc_k, prec_k, rec_k"
   ]
  },
  {
   "cell_type": "code",
   "execution_count": null,
   "metadata": {},
   "outputs": [],
   "source": [
    "acc_k, prec_k, rec_k = top_k_acc_prec_rec(y_prob, y_true, k=2)"
   ]
  },
  {
   "cell_type": "code",
   "execution_count": null,
   "metadata": {},
   "outputs": [],
   "source": [
    "print(\"acc@k: \", acc_k)\n",
    "print(\"prec@k: \", prec_k)\n",
    "print(\"rec@k: \", rec_k)"
   ]
  },
  {
   "cell_type": "code",
   "execution_count": null,
   "metadata": {},
   "outputs": [],
   "source": [
    "print(mean_auroc)"
   ]
  },
  {
   "cell_type": "code",
   "execution_count": null,
   "metadata": {},
   "outputs": [],
   "source": []
  }
 ],
 "metadata": {
  "kernelspec": {
   "display_name": "pytorch",
   "language": "python",
   "name": "python3"
  },
  "language_info": {
   "codemirror_mode": {
    "name": "ipython",
    "version": 3
   },
   "file_extension": ".py",
   "mimetype": "text/x-python",
   "name": "python",
   "nbconvert_exporter": "python",
   "pygments_lexer": "ipython3",
   "version": "3.9.16"
  },
  "orig_nbformat": 4,
  "vscode": {
   "interpreter": {
    "hash": "2d58e898dde0263bc564c6968b04150abacfd33eed9b19aaa8e45c040360e146"
   }
  }
 },
 "nbformat": 4,
 "nbformat_minor": 2
}
